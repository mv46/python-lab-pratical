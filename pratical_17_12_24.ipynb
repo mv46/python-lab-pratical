{
 "cells": [
  {
   "cell_type": "markdown",
   "id": "e14efadd-ea94-4bb4-881d-1b6cafd4decd",
   "metadata": {},
   "source": [
    "# PYTHON PRATICAL"
   ]
  },
  {
   "cell_type": "code",
   "execution_count": 14,
   "id": "0e4a3b15-1853-4133-a9a6-ea7a996f091a",
   "metadata": {},
   "outputs": [
    {
     "name": "stdin",
     "output_type": "stream",
     "text": [
      "enter your sentence hello yhjjdztj\n"
     ]
    },
    {
     "name": "stdout",
     "output_type": "stream",
     "text": [
      "YHJJDZTJ HELLO\n"
     ]
    }
   ],
   "source": [
    "#write a program that takes a sentence and:\n",
    "#>reverse the order of words.\n",
    "#>Converts the case of all characters. Example: \"Hello World\" -> \"dLROw OLLEh\"\n",
    "\n",
    "def reverse_and_convert_case(sentence):\n",
    "    # Split the sentence into words\n",
    "    words = sentence.split()\n",
    "    \n",
    "    # Reverse the order of words\n",
    "    words.reverse()\n",
    "    \n",
    "    # Join the words back into a single string and convert the case\n",
    "    reversed_sentence = ' '.join(words).swapcase()\n",
    "    \n",
    "    return reversed_sentence\n",
    "\n",
    "# Example usage\n",
    "input_sentence = input(\"enter your sentence\")\n",
    "result = reverse_and_convert_case(input_sentence)\n",
    "print(result)\n"
   ]
  },
  {
   "cell_type": "code",
   "execution_count": 11,
   "id": "fe00670c-ac4c-42dc-9e05-230b5341b4ef",
   "metadata": {},
   "outputs": [
    {
     "name": "stdout",
     "output_type": "stream",
     "text": [
      "[['eat', 'tea', 'ate'], ['tan', 'nat'], ['bat']]\n"
     ]
    }
   ],
   "source": [
    "#given a list of strings, group all anagrams together into a list of lists. Example:\n",
    "#input: [\"eat\" ,\"tea\" , \"tan\" , \"ate\", \"nat\", \"bat\"]\n",
    "#output: [['eat', 'tea',  'ate'],['tan', 'nat'],['bat']].\n",
    "def group_anagrams(strs):\n",
    "    anagrams = {}\n",
    "    \n",
    "    for s in strs:\n",
    "        # Sort the string and use it as the key\n",
    "        sorted_str = ''.join(sorted(s))\n",
    "        \n",
    "        # If the key is not in the dictionary, create a new list\n",
    "        if sorted_str not in anagrams:\n",
    "            anagrams[sorted_str] = []\n",
    "        \n",
    "        # Append the original string to the list corresponding to the sorted key\n",
    "        anagrams[sorted_str].append(s)\n",
    "    \n",
    "    return list(anagrams.values())\n",
    "\n",
    "# Example usage\n",
    "input_list = [\"eat\", \"tea\", \"tan\", \"ate\", \"nat\", \"bat\"]\n",
    "\n",
    "output = group_anagrams(input_list)\n",
    "print(output)\n"
   ]
  },
  {
   "cell_type": "code",
   "execution_count": 12,
   "id": "39d26b13-4ab7-48e2-b4ea-ed5ffba7fa35",
   "metadata": {},
   "outputs": [
    {
     "name": "stdout",
     "output_type": "stream",
     "text": [
      "13\n"
     ]
    }
   ],
   "source": [
    "#create a function that takes a nested list (eg., [, [3,4]], 5]) and returns the sum of all integers in it, using recursion.\n",
    "def sum_nested_list(nested_list):\n",
    "    total = 0\n",
    "    for item in nested_list:\n",
    "        if isinstance(item, list):\n",
    "            total += sum_nested_list(item)  # Recursion for nested lists\n",
    "        else:\n",
    "            total += item  # Add the integer\n",
    "    return total\n",
    "\n",
    "# Example usage\n",
    "nested_list = [1, [3, 4], 5]\n",
    "result = sum_nested_list(nested_list)\n",
    "print(result)  # Output: 13\n"
   ]
  },
  {
   "cell_type": "code",
   "execution_count": null,
   "id": "6adefe8e-6d1d-41c4-9627-86b18524f047",
   "metadata": {},
   "outputs": [],
   "source": []
  }
 ],
 "metadata": {
  "kernelspec": {
   "display_name": "Python 3 (ipykernel)",
   "language": "python",
   "name": "python3"
  },
  "language_info": {
   "codemirror_mode": {
    "name": "ipython",
    "version": 3
   },
   "file_extension": ".py",
   "mimetype": "text/x-python",
   "name": "python",
   "nbconvert_exporter": "python",
   "pygments_lexer": "ipython3",
   "version": "3.9.6"
  }
 },
 "nbformat": 4,
 "nbformat_minor": 5
}
